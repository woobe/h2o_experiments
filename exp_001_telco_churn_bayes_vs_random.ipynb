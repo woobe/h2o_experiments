{
 "cells": [
  {
   "cell_type": "markdown",
   "metadata": {},
   "source": [
    "# Experiment 1\n",
    "\n",
    "Comparing H2O Random Grid Search with rBayesianOptimization \n",
    "\n",
    "(from this blog post https://a-ghorbani.github.io/2016/11/24/data-science-with-h2o#bayesian-optimization)\n"
   ]
  },
  {
   "cell_type": "code",
   "execution_count": 1,
   "metadata": {
    "collapsed": false
   },
   "outputs": [
    {
     "data": {
      "text/html": [
       "<dl class=dl-horizontal>\n",
       "\t<dt>rBayesianOptimization</dt>\n",
       "\t\t<dd>TRUE</dd>\n",
       "\t<dt>data.table</dt>\n",
       "\t\t<dd>TRUE</dd>\n",
       "\t<dt>h2o</dt>\n",
       "\t\t<dd>TRUE</dd>\n",
       "</dl>\n"
      ],
      "text/latex": [
       "\\begin{description*}\n",
       "\\item[rBayesianOptimization] TRUE\n",
       "\\item[data.table] TRUE\n",
       "\\item[h2o] TRUE\n",
       "\\end{description*}\n"
      ],
      "text/markdown": [
       "rBayesianOptimization\n",
       ":   TRUEdata.table\n",
       ":   TRUEh2o\n",
       ":   TRUE\n",
       "\n"
      ],
      "text/plain": [
       "rBayesianOptimization            data.table                   h2o \n",
       "                 TRUE                  TRUE                  TRUE "
      ]
     },
     "metadata": {},
     "output_type": "display_data"
    }
   ],
   "source": [
    "# Check and install other packages if needed\n",
    "# list_pkgs <- c(\"rpart\", \"rattle\", \"rpart.plot\", \"RColorBrewer\", \"partykit\",\n",
    "#               \"caret\", \"party\", \"rBayesianOptimization\", \"readr\", \"data.table\",\n",
    "#               \"reshape2\", \"pROC\", \"ggplot2\", \"h2o\")\n",
    "list_pkgs <- c(\"rBayesianOptimization\", \"data.table\", \"h2o\")\n",
    "new_pkgs <- list_pkgs[!(list_pkgs %in% installed.packages()[,\"Package\"])]\n",
    "if(length(new_pkgs)) install.packages(new_pkgs)\n",
    "\n",
    "# Load All R Packages\n",
    "suppressMessages(sapply(list_pkgs, require, character.only = TRUE))\n",
    "rm(list_pkgs, new_pkgs)"
   ]
  },
  {
   "cell_type": "code",
   "execution_count": 2,
   "metadata": {
    "collapsed": false
   },
   "outputs": [
    {
     "name": "stdout",
     "output_type": "stream",
     "text": [
      "\n",
      "H2O is not running yet, starting it now...\n",
      "\n",
      "Note:  In case of errors look at the following log files:\n",
      "    /tmp/RtmpI0axxw/h2o_joe_started_from_r.out\n",
      "    /tmp/RtmpI0axxw/h2o_joe_started_from_r.err\n",
      "\n",
      "\n",
      "Starting H2O JVM and connecting: ... Connection successful!\n",
      "\n",
      "R is connected to the H2O cluster: \n",
      "    H2O cluster uptime:         2 seconds 877 milliseconds \n",
      "    H2O cluster version:        3.10.2.1 \n",
      "    H2O cluster version age:    18 days  \n",
      "    H2O cluster name:           H2O_started_from_R_joe_oue094 \n",
      "    H2O cluster total nodes:    1 \n",
      "    H2O cluster total memory:   5.21 GB \n",
      "    H2O cluster total cores:    8 \n",
      "    H2O cluster allowed cores:  8 \n",
      "    H2O cluster healthy:        TRUE \n",
      "    H2O Connection ip:          localhost \n",
      "    H2O Connection port:        54321 \n",
      "    H2O Connection proxy:       NA \n",
      "    R Version:                  R version 3.3.2 (2016-10-31) \n",
      "\n"
     ]
    }
   ],
   "source": [
    "# Start and connect to local H2O cluster\n",
    "h2o.init(nthreads = -1)\n",
    "\n",
    "# Disable progress bar\n",
    "h2o.no_progress()"
   ]
  },
  {
   "cell_type": "code",
   "execution_count": 3,
   "metadata": {
    "collapsed": true
   },
   "outputs": [],
   "source": [
    "# Import file\n",
    "h_churn <- h2o.importFile(path = \"http://www.dataminingconsultant.com/data/churn.txt\")"
   ]
  },
  {
   "cell_type": "code",
   "execution_count": 4,
   "metadata": {
    "collapsed": false
   },
   "outputs": [
    {
     "data": {
      "text/html": [
       "<ol class=list-inline>\n",
       "\t<li>3333</li>\n",
       "\t<li>21</li>\n",
       "</ol>\n"
      ],
      "text/latex": [
       "\\begin{enumerate*}\n",
       "\\item 3333\n",
       "\\item 21\n",
       "\\end{enumerate*}\n"
      ],
      "text/markdown": [
       "1. 3333\n",
       "2. 21\n",
       "\n",
       "\n"
      ],
      "text/plain": [
       "[1] 3333   21"
      ]
     },
     "metadata": {},
     "output_type": "display_data"
    }
   ],
   "source": [
    "# Dimension 3333 x 21\n",
    "dim(h_churn)"
   ]
  },
  {
   "cell_type": "code",
   "execution_count": 5,
   "metadata": {
    "collapsed": false
   },
   "outputs": [
    {
     "data": {
      "text/html": [
       "<table>\n",
       "<thead><tr><th scope=col>State</th><th scope=col>Account Length</th><th scope=col>Area Code</th><th scope=col>Phone</th><th scope=col>Int'l Plan</th><th scope=col>VMail Plan</th><th scope=col>VMail Message</th><th scope=col>Day Mins</th><th scope=col>Day Calls</th><th scope=col>Day Charge</th><th scope=col>⋯</th><th scope=col>Eve Calls</th><th scope=col>Eve Charge</th><th scope=col>Night Mins</th><th scope=col>Night Calls</th><th scope=col>Night Charge</th><th scope=col>Intl Mins</th><th scope=col>Intl Calls</th><th scope=col>Intl Charge</th><th scope=col>CustServ Calls</th><th scope=col>Churn?</th></tr></thead>\n",
       "<tbody>\n",
       "\t<tr><td>KS      </td><td>128     </td><td>415     </td><td>382-4657</td><td>no      </td><td>yes     </td><td>25      </td><td>265.1   </td><td>110     </td><td>45.07   </td><td>⋯       </td><td> 99     </td><td>16.78   </td><td>244.7   </td><td> 91     </td><td>11.01   </td><td>10.0    </td><td>3       </td><td>2.70    </td><td>1       </td><td>False.  </td></tr>\n",
       "\t<tr><td>OH      </td><td>107     </td><td>415     </td><td>371-7191</td><td>no      </td><td>yes     </td><td>26      </td><td>161.6   </td><td>123     </td><td>27.47   </td><td>⋯       </td><td>103     </td><td>16.62   </td><td>254.4   </td><td>103     </td><td>11.45   </td><td>13.7    </td><td>3       </td><td>3.70    </td><td>1       </td><td>False.  </td></tr>\n",
       "\t<tr><td>NJ      </td><td>137     </td><td>415     </td><td>358-1921</td><td>no      </td><td>no      </td><td> 0      </td><td>243.4   </td><td>114     </td><td>41.38   </td><td>⋯       </td><td>110     </td><td>10.30   </td><td>162.6   </td><td>104     </td><td> 7.32   </td><td>12.2    </td><td>5       </td><td>3.29    </td><td>0       </td><td>False.  </td></tr>\n",
       "\t<tr><td>OH      </td><td> 84     </td><td>408     </td><td>375-9999</td><td>yes     </td><td>no      </td><td> 0      </td><td>299.4   </td><td> 71     </td><td>50.90   </td><td>⋯       </td><td> 88     </td><td> 5.26   </td><td>196.9   </td><td> 89     </td><td> 8.86   </td><td> 6.6    </td><td>7       </td><td>1.78    </td><td>2       </td><td>False.  </td></tr>\n",
       "\t<tr><td>OK      </td><td> 75     </td><td>415     </td><td>330-6626</td><td>yes     </td><td>no      </td><td> 0      </td><td>166.7   </td><td>113     </td><td>28.34   </td><td>⋯       </td><td>122     </td><td>12.61   </td><td>186.9   </td><td>121     </td><td> 8.41   </td><td>10.1    </td><td>3       </td><td>2.73    </td><td>3       </td><td>False.  </td></tr>\n",
       "\t<tr><td>AL      </td><td>118     </td><td>510     </td><td>391-8027</td><td>yes     </td><td>no      </td><td> 0      </td><td>223.4   </td><td> 98     </td><td>37.98   </td><td>⋯       </td><td>101     </td><td>18.75   </td><td>203.9   </td><td>118     </td><td> 9.18   </td><td> 6.3    </td><td>6       </td><td>1.70    </td><td>0       </td><td>False.  </td></tr>\n",
       "</tbody>\n",
       "</table>\n"
      ],
      "text/latex": [
       "\\begin{tabular}{r|lllllllllllllllllllll}\n",
       " State & Account Length & Area Code & Phone & Int'l Plan & VMail Plan & VMail Message & Day Mins & Day Calls & Day Charge & ⋯ & Eve Calls & Eve Charge & Night Mins & Night Calls & Night Charge & Intl Mins & Intl Calls & Intl Charge & CustServ Calls & Churn?\\\\\n",
       "\\hline\n",
       "\t KS       & 128      & 415      & 382-4657 & no       & yes      & 25       & 265.1    & 110      & 45.07    & ⋯        &  99      & 16.78    & 244.7    &  91      & 11.01    & 10.0     & 3        & 2.70     & 1        & False.  \\\\\n",
       "\t OH       & 107      & 415      & 371-7191 & no       & yes      & 26       & 161.6    & 123      & 27.47    & ⋯        & 103      & 16.62    & 254.4    & 103      & 11.45    & 13.7     & 3        & 3.70     & 1        & False.  \\\\\n",
       "\t NJ       & 137      & 415      & 358-1921 & no       & no       &  0       & 243.4    & 114      & 41.38    & ⋯        & 110      & 10.30    & 162.6    & 104      &  7.32    & 12.2     & 5        & 3.29     & 0        & False.  \\\\\n",
       "\t OH       &  84      & 408      & 375-9999 & yes      & no       &  0       & 299.4    &  71      & 50.90    & ⋯        &  88      &  5.26    & 196.9    &  89      &  8.86    &  6.6     & 7        & 1.78     & 2        & False.  \\\\\n",
       "\t OK       &  75      & 415      & 330-6626 & yes      & no       &  0       & 166.7    & 113      & 28.34    & ⋯        & 122      & 12.61    & 186.9    & 121      &  8.41    & 10.1     & 3        & 2.73     & 3        & False.  \\\\\n",
       "\t AL       & 118      & 510      & 391-8027 & yes      & no       &  0       & 223.4    &  98      & 37.98    & ⋯        & 101      & 18.75    & 203.9    & 118      &  9.18    &  6.3     & 6        & 1.70     & 0        & False.  \\\\\n",
       "\\end{tabular}\n"
      ],
      "text/markdown": [
       "\n",
       "State | Account Length | Area Code | Phone | Int'l Plan | VMail Plan | VMail Message | Day Mins | Day Calls | Day Charge | ⋯ | Eve Calls | Eve Charge | Night Mins | Night Calls | Night Charge | Intl Mins | Intl Calls | Intl Charge | CustServ Calls | Churn? | \n",
       "|---|---|---|---|---|---|\n",
       "| KS       | 128      | 415      | 382-4657 | no       | yes      | 25       | 265.1    | 110      | 45.07    | ⋯        |  99      | 16.78    | 244.7    |  91      | 11.01    | 10.0     | 3        | 2.70     | 1        | False.   | \n",
       "| OH       | 107      | 415      | 371-7191 | no       | yes      | 26       | 161.6    | 123      | 27.47    | ⋯        | 103      | 16.62    | 254.4    | 103      | 11.45    | 13.7     | 3        | 3.70     | 1        | False.   | \n",
       "| NJ       | 137      | 415      | 358-1921 | no       | no       |  0       | 243.4    | 114      | 41.38    | ⋯        | 110      | 10.30    | 162.6    | 104      |  7.32    | 12.2     | 5        | 3.29     | 0        | False.   | \n",
       "| OH       |  84      | 408      | 375-9999 | yes      | no       |  0       | 299.4    |  71      | 50.90    | ⋯        |  88      |  5.26    | 196.9    |  89      |  8.86    |  6.6     | 7        | 1.78     | 2        | False.   | \n",
       "| OK       |  75      | 415      | 330-6626 | yes      | no       |  0       | 166.7    | 113      | 28.34    | ⋯        | 122      | 12.61    | 186.9    | 121      |  8.41    | 10.1     | 3        | 2.73     | 3        | False.   | \n",
       "| AL       | 118      | 510      | 391-8027 | yes      | no       |  0       | 223.4    |  98      | 37.98    | ⋯        | 101      | 18.75    | 203.9    | 118      |  9.18    |  6.3     | 6        | 1.70     | 0        | False.   | \n",
       "\n",
       "\n"
      ],
      "text/plain": [
       "  State Account Length Area Code Phone    Int'l Plan VMail Plan VMail Message\n",
       "1 KS    128            415       382-4657 no         yes        25           \n",
       "2 OH    107            415       371-7191 no         yes        26           \n",
       "3 NJ    137            415       358-1921 no         no          0           \n",
       "4 OH     84            408       375-9999 yes        no          0           \n",
       "5 OK     75            415       330-6626 yes        no          0           \n",
       "6 AL    118            510       391-8027 yes        no          0           \n",
       "  Day Mins Day Calls Day Charge ⋯ Eve Calls Eve Charge Night Mins Night Calls\n",
       "1 265.1    110       45.07      ⋯  99       16.78      244.7       91        \n",
       "2 161.6    123       27.47      ⋯ 103       16.62      254.4      103        \n",
       "3 243.4    114       41.38      ⋯ 110       10.30      162.6      104        \n",
       "4 299.4     71       50.90      ⋯  88        5.26      196.9       89        \n",
       "5 166.7    113       28.34      ⋯ 122       12.61      186.9      121        \n",
       "6 223.4     98       37.98      ⋯ 101       18.75      203.9      118        \n",
       "  Night Charge Intl Mins Intl Calls Intl Charge CustServ Calls Churn?\n",
       "1 11.01        10.0      3          2.70        1              False.\n",
       "2 11.45        13.7      3          3.70        1              False.\n",
       "3  7.32        12.2      5          3.29        0              False.\n",
       "4  8.86         6.6      7          1.78        2              False.\n",
       "5  8.41        10.1      3          2.73        3              False.\n",
       "6  9.18         6.3      6          1.70        0              False."
      ]
     },
     "metadata": {},
     "output_type": "display_data"
    }
   ],
   "source": [
    "# Head\n",
    "head(h_churn)"
   ]
  },
  {
   "cell_type": "code",
   "execution_count": 6,
   "metadata": {
    "collapsed": false
   },
   "outputs": [
    {
     "data": {
      "text/html": [
       "<table>\n",
       "<thead><tr><th scope=col>Label</th><th scope=col>Type</th><th scope=col>Missing</th><th scope=col>Zeros</th><th scope=col>PosInf</th><th scope=col>NegInf</th><th scope=col>Min</th><th scope=col>Max</th><th scope=col>Mean</th><th scope=col>Sigma</th><th scope=col>Cardinality</th></tr></thead>\n",
       "<tbody>\n",
       "\t<tr><td>State             </td><td>enum              </td><td>0                 </td><td>52                </td><td>0                 </td><td>0                 </td><td>0                 </td><td>50                </td><td>NA                </td><td>NA                </td><td>51                </td></tr>\n",
       "\t<tr><td>Account Length    </td><td>int               </td><td>0                 </td><td>0                 </td><td>0                 </td><td>0                 </td><td>1                 </td><td>243               </td><td>101.064806480648  </td><td>39.8221059285957  </td><td>NA                </td></tr>\n",
       "\t<tr><td>Area Code         </td><td>int               </td><td>0                 </td><td>0                 </td><td>0                 </td><td>0                 </td><td>408               </td><td>510               </td><td>437.182418241824  </td><td>42.3712904856066  </td><td>NA                </td></tr>\n",
       "\t<tr><td>Phone             </td><td>string            </td><td>0                 </td><td>0                 </td><td>0                 </td><td>0                 </td><td>NaN               </td><td>NaN               </td><td>NA                </td><td>NA                </td><td>NA                </td></tr>\n",
       "\t<tr><td>Int'l Plan        </td><td>enum              </td><td>0                 </td><td>3010              </td><td>0                 </td><td>0                 </td><td>0                 </td><td>1                 </td><td>0.0969096909690969</td><td>0.295879145484415 </td><td>2                 </td></tr>\n",
       "\t<tr><td>VMail Plan        </td><td>enum              </td><td>0                 </td><td>2411              </td><td>0                 </td><td>0                 </td><td>0                 </td><td>1                 </td><td>0.276627662766277 </td><td>0.447397870380064 </td><td>2                 </td></tr>\n",
       "\t<tr><td>VMail Message     </td><td>int               </td><td>0                 </td><td>2411              </td><td>0                 </td><td>0                 </td><td>0                 </td><td>51                </td><td>8.09900990099009  </td><td>13.6883653720386  </td><td>NA                </td></tr>\n",
       "\t<tr><td>Day Mins          </td><td>real              </td><td>0                 </td><td>2                 </td><td>0                 </td><td>0                 </td><td>0                 </td><td>350.8             </td><td>179.775097509751  </td><td>54.4673892023715  </td><td>NA                </td></tr>\n",
       "\t<tr><td>Day Calls         </td><td>int               </td><td>0                 </td><td>2                 </td><td>0                 </td><td>0                 </td><td>0                 </td><td>165               </td><td>100.435643564356  </td><td>20.0690842073009  </td><td>NA                </td></tr>\n",
       "\t<tr><td>Day Charge        </td><td>real              </td><td>0                 </td><td>2                 </td><td>0                 </td><td>0                 </td><td>0                 </td><td>59.64             </td><td>30.5623072307231  </td><td>9.2594345539305   </td><td>NA                </td></tr>\n",
       "\t<tr><td>Eve Mins          </td><td>real              </td><td>0                 </td><td>1                 </td><td>0                 </td><td>0                 </td><td>0                 </td><td>363.7             </td><td>200.980348034804  </td><td>50.713844425812   </td><td>NA                </td></tr>\n",
       "\t<tr><td>Eve Calls         </td><td>int               </td><td>0                 </td><td>1                 </td><td>0                 </td><td>0                 </td><td>0                 </td><td>170               </td><td>100.114311431143  </td><td>19.9226252939431  </td><td>NA                </td></tr>\n",
       "\t<tr><td>Eve Charge        </td><td>real              </td><td>0                 </td><td>1                 </td><td>0                 </td><td>0                 </td><td>0                 </td><td>30.91             </td><td>17.0835403540353  </td><td>4.31066764311035  </td><td>NA                </td></tr>\n",
       "\t<tr><td>Night Mins        </td><td>real              </td><td>0                 </td><td>0                 </td><td>0                 </td><td>0                 </td><td>23.2              </td><td>395               </td><td>200.87203720372   </td><td>50.5738470136584  </td><td>NA                </td></tr>\n",
       "\t<tr><td>Night Calls       </td><td>int               </td><td>0                 </td><td>0                 </td><td>0                 </td><td>0                 </td><td>33                </td><td>175               </td><td>100.107710771077  </td><td>19.5686093460585  </td><td>NA                </td></tr>\n",
       "\t<tr><td>Night Charge      </td><td>real              </td><td>0                 </td><td>0                 </td><td>0                 </td><td>0                 </td><td>1.04              </td><td>17.77             </td><td>9.03932493249326  </td><td>2.27587283766003  </td><td>NA                </td></tr>\n",
       "\t<tr><td>Intl Mins         </td><td>real              </td><td>0                 </td><td>18                </td><td>0                 </td><td>0                 </td><td>0                 </td><td>20                </td><td>10.2372937293729  </td><td>2.79183954840842  </td><td>NA                </td></tr>\n",
       "\t<tr><td>Intl Calls        </td><td>int               </td><td>0                 </td><td>18                </td><td>0                 </td><td>0                 </td><td>0                 </td><td>20                </td><td>4.47944794479448  </td><td>2.4612142705461   </td><td>NA                </td></tr>\n",
       "\t<tr><td>Intl Charge       </td><td>real              </td><td>0                 </td><td>18                </td><td>0                 </td><td>0                 </td><td>0                 </td><td>5.4               </td><td>2.76458145814581  </td><td>0.753772612663045 </td><td>NA                </td></tr>\n",
       "\t<tr><td>CustServ Calls    </td><td>int               </td><td>0                 </td><td>697               </td><td>0                 </td><td>0                 </td><td>0                 </td><td>9                 </td><td>1.56285628562856  </td><td>1.31549104486648  </td><td>NA                </td></tr>\n",
       "\t<tr><td>Churn?            </td><td>enum              </td><td>0                 </td><td>2850              </td><td>0                 </td><td>0                 </td><td>0                 </td><td>1                 </td><td>0.144914491449145 </td><td>0.352067423624126 </td><td>2                 </td></tr>\n",
       "</tbody>\n",
       "</table>\n"
      ],
      "text/latex": [
       "\\begin{tabular}{r|lllllllllll}\n",
       " Label & Type & Missing & Zeros & PosInf & NegInf & Min & Max & Mean & Sigma & Cardinality\\\\\n",
       "\\hline\n",
       "\t State              & enum               & 0                  & 52                 & 0                  & 0                  & 0                  & 50                 & NA                 & NA                 & 51                \\\\\n",
       "\t Account Length     & int                & 0                  & 0                  & 0                  & 0                  & 1                  & 243                & 101.064806480648   & 39.8221059285957   & NA                \\\\\n",
       "\t Area Code          & int                & 0                  & 0                  & 0                  & 0                  & 408                & 510                & 437.182418241824   & 42.3712904856066   & NA                \\\\\n",
       "\t Phone              & string             & 0                  & 0                  & 0                  & 0                  & NaN                & NaN                & NA                 & NA                 & NA                \\\\\n",
       "\t Int'l Plan         & enum               & 0                  & 3010               & 0                  & 0                  & 0                  & 1                  & 0.0969096909690969 & 0.295879145484415  & 2                 \\\\\n",
       "\t VMail Plan         & enum               & 0                  & 2411               & 0                  & 0                  & 0                  & 1                  & 0.276627662766277  & 0.447397870380064  & 2                 \\\\\n",
       "\t VMail Message      & int                & 0                  & 2411               & 0                  & 0                  & 0                  & 51                 & 8.09900990099009   & 13.6883653720386   & NA                \\\\\n",
       "\t Day Mins           & real               & 0                  & 2                  & 0                  & 0                  & 0                  & 350.8              & 179.775097509751   & 54.4673892023715   & NA                \\\\\n",
       "\t Day Calls          & int                & 0                  & 2                  & 0                  & 0                  & 0                  & 165                & 100.435643564356   & 20.0690842073009   & NA                \\\\\n",
       "\t Day Charge         & real               & 0                  & 2                  & 0                  & 0                  & 0                  & 59.64              & 30.5623072307231   & 9.2594345539305    & NA                \\\\\n",
       "\t Eve Mins           & real               & 0                  & 1                  & 0                  & 0                  & 0                  & 363.7              & 200.980348034804   & 50.713844425812    & NA                \\\\\n",
       "\t Eve Calls          & int                & 0                  & 1                  & 0                  & 0                  & 0                  & 170                & 100.114311431143   & 19.9226252939431   & NA                \\\\\n",
       "\t Eve Charge         & real               & 0                  & 1                  & 0                  & 0                  & 0                  & 30.91              & 17.0835403540353   & 4.31066764311035   & NA                \\\\\n",
       "\t Night Mins         & real               & 0                  & 0                  & 0                  & 0                  & 23.2               & 395                & 200.87203720372    & 50.5738470136584   & NA                \\\\\n",
       "\t Night Calls        & int                & 0                  & 0                  & 0                  & 0                  & 33                 & 175                & 100.107710771077   & 19.5686093460585   & NA                \\\\\n",
       "\t Night Charge       & real               & 0                  & 0                  & 0                  & 0                  & 1.04               & 17.77              & 9.03932493249326   & 2.27587283766003   & NA                \\\\\n",
       "\t Intl Mins          & real               & 0                  & 18                 & 0                  & 0                  & 0                  & 20                 & 10.2372937293729   & 2.79183954840842   & NA                \\\\\n",
       "\t Intl Calls         & int                & 0                  & 18                 & 0                  & 0                  & 0                  & 20                 & 4.47944794479448   & 2.4612142705461    & NA                \\\\\n",
       "\t Intl Charge        & real               & 0                  & 18                 & 0                  & 0                  & 0                  & 5.4                & 2.76458145814581   & 0.753772612663045  & NA                \\\\\n",
       "\t CustServ Calls     & int                & 0                  & 697                & 0                  & 0                  & 0                  & 9                  & 1.56285628562856   & 1.31549104486648   & NA                \\\\\n",
       "\t Churn?             & enum               & 0                  & 2850               & 0                  & 0                  & 0                  & 1                  & 0.144914491449145  & 0.352067423624126  & 2                 \\\\\n",
       "\\end{tabular}\n"
      ],
      "text/markdown": [
       "\n",
       "Label | Type | Missing | Zeros | PosInf | NegInf | Min | Max | Mean | Sigma | Cardinality | \n",
       "|---|---|---|---|---|---|---|---|---|---|---|---|---|---|---|---|---|---|---|---|---|\n",
       "| State              | enum               | 0                  | 52                 | 0                  | 0                  | 0                  | 50                 | NA                 | NA                 | 51                 | \n",
       "| Account Length     | int                | 0                  | 0                  | 0                  | 0                  | 1                  | 243                | 101.064806480648   | 39.8221059285957   | NA                 | \n",
       "| Area Code          | int                | 0                  | 0                  | 0                  | 0                  | 408                | 510                | 437.182418241824   | 42.3712904856066   | NA                 | \n",
       "| Phone              | string             | 0                  | 0                  | 0                  | 0                  | NaN                | NaN                | NA                 | NA                 | NA                 | \n",
       "| Int'l Plan         | enum               | 0                  | 3010               | 0                  | 0                  | 0                  | 1                  | 0.0969096909690969 | 0.295879145484415  | 2                  | \n",
       "| VMail Plan         | enum               | 0                  | 2411               | 0                  | 0                  | 0                  | 1                  | 0.276627662766277  | 0.447397870380064  | 2                  | \n",
       "| VMail Message      | int                | 0                  | 2411               | 0                  | 0                  | 0                  | 51                 | 8.09900990099009   | 13.6883653720386   | NA                 | \n",
       "| Day Mins           | real               | 0                  | 2                  | 0                  | 0                  | 0                  | 350.8              | 179.775097509751   | 54.4673892023715   | NA                 | \n",
       "| Day Calls          | int                | 0                  | 2                  | 0                  | 0                  | 0                  | 165                | 100.435643564356   | 20.0690842073009   | NA                 | \n",
       "| Day Charge         | real               | 0                  | 2                  | 0                  | 0                  | 0                  | 59.64              | 30.5623072307231   | 9.2594345539305    | NA                 | \n",
       "| Eve Mins           | real               | 0                  | 1                  | 0                  | 0                  | 0                  | 363.7              | 200.980348034804   | 50.713844425812    | NA                 | \n",
       "| Eve Calls          | int                | 0                  | 1                  | 0                  | 0                  | 0                  | 170                | 100.114311431143   | 19.9226252939431   | NA                 | \n",
       "| Eve Charge         | real               | 0                  | 1                  | 0                  | 0                  | 0                  | 30.91              | 17.0835403540353   | 4.31066764311035   | NA                 | \n",
       "| Night Mins         | real               | 0                  | 0                  | 0                  | 0                  | 23.2               | 395                | 200.87203720372    | 50.5738470136584   | NA                 | \n",
       "| Night Calls        | int                | 0                  | 0                  | 0                  | 0                  | 33                 | 175                | 100.107710771077   | 19.5686093460585   | NA                 | \n",
       "| Night Charge       | real               | 0                  | 0                  | 0                  | 0                  | 1.04               | 17.77              | 9.03932493249326   | 2.27587283766003   | NA                 | \n",
       "| Intl Mins          | real               | 0                  | 18                 | 0                  | 0                  | 0                  | 20                 | 10.2372937293729   | 2.79183954840842   | NA                 | \n",
       "| Intl Calls         | int                | 0                  | 18                 | 0                  | 0                  | 0                  | 20                 | 4.47944794479448   | 2.4612142705461    | NA                 | \n",
       "| Intl Charge        | real               | 0                  | 18                 | 0                  | 0                  | 0                  | 5.4                | 2.76458145814581   | 0.753772612663045  | NA                 | \n",
       "| CustServ Calls     | int                | 0                  | 697                | 0                  | 0                  | 0                  | 9                  | 1.56285628562856   | 1.31549104486648   | NA                 | \n",
       "| Churn?             | enum               | 0                  | 2850               | 0                  | 0                  | 0                  | 1                  | 0.144914491449145  | 0.352067423624126  | 2                  | \n",
       "\n",
       "\n"
      ],
      "text/plain": [
       "   Label          Type   Missing Zeros PosInf NegInf Min  Max  \n",
       "1  State          enum   0       52    0      0      0    50   \n",
       "2  Account Length int    0       0     0      0      1    243  \n",
       "3  Area Code      int    0       0     0      0      408  510  \n",
       "4  Phone          string 0       0     0      0      NaN  NaN  \n",
       "5  Int'l Plan     enum   0       3010  0      0      0    1    \n",
       "6  VMail Plan     enum   0       2411  0      0      0    1    \n",
       "7  VMail Message  int    0       2411  0      0      0    51   \n",
       "8  Day Mins       real   0       2     0      0      0    350.8\n",
       "9  Day Calls      int    0       2     0      0      0    165  \n",
       "10 Day Charge     real   0       2     0      0      0    59.64\n",
       "11 Eve Mins       real   0       1     0      0      0    363.7\n",
       "12 Eve Calls      int    0       1     0      0      0    170  \n",
       "13 Eve Charge     real   0       1     0      0      0    30.91\n",
       "14 Night Mins     real   0       0     0      0      23.2 395  \n",
       "15 Night Calls    int    0       0     0      0      33   175  \n",
       "16 Night Charge   real   0       0     0      0      1.04 17.77\n",
       "17 Intl Mins      real   0       18    0      0      0    20   \n",
       "18 Intl Calls     int    0       18    0      0      0    20   \n",
       "19 Intl Charge    real   0       18    0      0      0    5.4  \n",
       "20 CustServ Calls int    0       697   0      0      0    9    \n",
       "21 Churn?         enum   0       2850  0      0      0    1    \n",
       "   Mean               Sigma             Cardinality\n",
       "1  NA                 NA                51         \n",
       "2  101.064806480648   39.8221059285957  NA         \n",
       "3  437.182418241824   42.3712904856066  NA         \n",
       "4  NA                 NA                NA         \n",
       "5  0.0969096909690969 0.295879145484415 2          \n",
       "6  0.276627662766277  0.447397870380064 2          \n",
       "7  8.09900990099009   13.6883653720386  NA         \n",
       "8  179.775097509751   54.4673892023715  NA         \n",
       "9  100.435643564356   20.0690842073009  NA         \n",
       "10 30.5623072307231   9.2594345539305   NA         \n",
       "11 200.980348034804   50.713844425812   NA         \n",
       "12 100.114311431143   19.9226252939431  NA         \n",
       "13 17.0835403540353   4.31066764311035  NA         \n",
       "14 200.87203720372    50.5738470136584  NA         \n",
       "15 100.107710771077   19.5686093460585  NA         \n",
       "16 9.03932493249326   2.27587283766003  NA         \n",
       "17 10.2372937293729   2.79183954840842  NA         \n",
       "18 4.47944794479448   2.4612142705461   NA         \n",
       "19 2.76458145814581   0.753772612663045 NA         \n",
       "20 1.56285628562856   1.31549104486648  NA         \n",
       "21 0.144914491449145  0.352067423624126 2          "
      ]
     },
     "metadata": {},
     "output_type": "display_data"
    }
   ],
   "source": [
    "# More\n",
    "h2o.describe(h_churn)"
   ]
  },
  {
   "cell_type": "code",
   "execution_count": 7,
   "metadata": {
    "collapsed": true
   },
   "outputs": [],
   "source": [
    "# Split (Training / Validation / Test)\n",
    "h_split <- h2o.splitFrame(data = h_churn, \n",
    "                          ratios = c(0.5, 0.25),\n",
    "                          destination_frames = c(\"h_train\", \"h_valid\", \"h_test\"),\n",
    "                          seed = 2016)\n",
    "h_train <- h_split[[1]]\n",
    "h_valid <- h_split[[2]]\n",
    "h_test <- h_split[[3]]"
   ]
  },
  {
   "cell_type": "code",
   "execution_count": 8,
   "metadata": {
    "collapsed": false
   },
   "outputs": [
    {
     "name": "stdout",
     "output_type": "stream",
     "text": [
      " [1] \"State\"          \"Account Length\" \"Area Code\"      \"Phone\"         \n",
      " [5] \"Int'l Plan\"     \"VMail Plan\"     \"VMail Message\"  \"Day Mins\"      \n",
      " [9] \"Day Calls\"      \"Day Charge\"     \"Eve Mins\"       \"Eve Calls\"     \n",
      "[13] \"Eve Charge\"     \"Night Mins\"     \"Night Calls\"    \"Night Charge\"  \n",
      "[17] \"Intl Mins\"      \"Intl Calls\"     \"Intl Charge\"    \"CustServ Calls\"\n"
     ]
    }
   ],
   "source": [
    "# Define target and features\n",
    "target <- \"Churn?\"\n",
    "features <- setdiff(colnames(h_churn), target)\n",
    "print(features)"
   ]
  },
  {
   "cell_type": "markdown",
   "metadata": {},
   "source": [
    "## Experiment Setup\n",
    "\n",
    "- **Ten** different random seeds\n",
    "- Performance metrics: **AUC** and **time taken**\n",
    "\n",
    "### Hyper-parameters Settings\n",
    "\n",
    "Same as https://a-ghorbani.github.io/2016/11/24/data-science-with-h2o#bayesian-optimization\n",
    "\n",
    "- max_depth   = c(2L, 8L)\n",
    "- learn_rate  = c(1e-4, 0.2)\n",
    "- sample_rate = c(0.4, 1)\n",
    "- col_sample_rate = c(0.4, 1) \n",
    "- balance_classes = c(0L, 1L)) = c(TRUE, FALSE)\n"
   ]
  },
  {
   "cell_type": "code",
   "execution_count": 9,
   "metadata": {
    "collapsed": false
   },
   "outputs": [
    {
     "name": "stdout",
     "output_type": "stream",
     "text": [
      " [1] 11371 62229 60926 62336 86088 64028   950 23254 66603 51420\n"
     ]
    }
   ],
   "source": [
    "# Generate Random Seeds\n",
    "set.seed(1234)\n",
    "rand_seeds <- sample(1:99999, 10)\n",
    "print(rand_seeds)"
   ]
  },
  {
   "cell_type": "markdown",
   "metadata": {},
   "source": [
    "## Bayesian Optimization\n",
    "\n",
    "See https://a-ghorbani.github.io/2016/11/24/data-science-with-h2o#bayesian-optimization\n"
   ]
  },
  {
   "cell_type": "code",
   "execution_count": 10,
   "metadata": {
    "collapsed": true
   },
   "outputs": [],
   "source": [
    "# Optimisation function\n",
    "h2o_bayes <- function(max_depth, learn_rate, sample_rate, \n",
    "                      col_sample_rate, balance_classes) {\n",
    "  \n",
    "  bal.cl <- as.logical(balance_classes)\n",
    "  \n",
    "  gbm <- h2o.gbm(  \n",
    "    x                   = features,\n",
    "    y                   = target,\n",
    "    training_frame      = h_train,\n",
    "    validation_frame    = h_valid,\n",
    "    ntrees              = 900,\n",
    "    max_depth           = max_depth,\n",
    "    learn_rate          = learn_rate,\n",
    "    sample_rate         = sample_rate,\n",
    "    col_sample_rate     = col_sample_rate,\n",
    "    score_tree_interval = 5,\n",
    "    stopping_rounds     = 2,\n",
    "    stopping_metric     = \"logloss\",\n",
    "    stopping_tolerance  = 0.005,\n",
    "    balance_classes     = bal.cl,\n",
    "    seed                = n_seed           # using global variable\n",
    "  )\n",
    "  \n",
    "  score <- h2o.auc(gbm, valid = T)\n",
    "  list(Score = score,\n",
    "       Pred  = 0)\n",
    "  \n",
    "}"
   ]
  },
  {
   "cell_type": "code",
   "execution_count": 11,
   "metadata": {
    "collapsed": false
   },
   "outputs": [
    {
     "name": "stdout",
     "output_type": "stream",
     "text": [
      "\n",
      " Best Parameters Found: \n",
      "Round = 18\tmax_depth = 4.0000\tlearn_rate = 0.1145\tsample_rate = 0.5288\tcol_sample_rate = 0.5578\tbalance_classes = 0.0000\tValue = 0.9038 \n",
      "\n",
      " Best Parameters Found: \n",
      "Round = 8\tmax_depth = 3.0000\tlearn_rate = 0.1764\tsample_rate = 0.9991\tcol_sample_rate = 0.6130\tbalance_classes = 0.0000\tValue = 0.8986 \n",
      "\n",
      " Best Parameters Found: \n",
      "Round = 17\tmax_depth = 6.0000\tlearn_rate = 0.0001\tsample_rate = 1.0000\tcol_sample_rate = 0.4867\tbalance_classes = 0.0000\tValue = 0.8989 \n",
      "\n",
      " Best Parameters Found: \n",
      "Round = 9\tmax_depth = 2.0000\tlearn_rate = 0.1336\tsample_rate = 0.8845\tcol_sample_rate = 0.9303\tbalance_classes = 0.0000\tValue = 0.8984 \n",
      "\n",
      " Best Parameters Found: \n",
      "Round = 16\tmax_depth = 3.0000\tlearn_rate = 0.0855\tsample_rate = 0.8815\tcol_sample_rate = 0.7840\tbalance_classes = 0.0000\tValue = 0.8993 \n",
      "\n",
      " Best Parameters Found: \n",
      "Round = 16\tmax_depth = 8.0000\tlearn_rate = 0.0710\tsample_rate = 0.8933\tcol_sample_rate = 0.5262\tbalance_classes = 0.0000\tValue = 0.9015 \n",
      "\n",
      " Best Parameters Found: \n",
      "Round = 1\tmax_depth = 6.0000\tlearn_rate = 0.1764\tsample_rate = 0.9604\tcol_sample_rate = 0.6146\tbalance_classes = 0.0000\tValue = 0.8981 \n",
      "\n",
      " Best Parameters Found: \n",
      "Round = 18\tmax_depth = 8.0000\tlearn_rate = 0.2000\tsample_rate = 1.0000\tcol_sample_rate = 0.4306\tbalance_classes = 0.0000\tValue = 0.9018 \n",
      "\n",
      " Best Parameters Found: \n",
      "Round = 5\tmax_depth = 4.0000\tlearn_rate = 0.0200\tsample_rate = 0.9802\tcol_sample_rate = 0.9632\tbalance_classes = 0.0000\tValue = 0.8975 \n",
      "\n",
      " Best Parameters Found: \n",
      "Round = 17\tmax_depth = 7.0000\tlearn_rate = 0.1844\tsample_rate = 0.4972\tcol_sample_rate = 0.5132\tbalance_classes = 1.0000\tValue = 0.9009 \n"
     ]
    }
   ],
   "source": [
    "# Loop for Bayesian Optimization Benckmark\n",
    "options(warn = -1)\n",
    "d_eval <- c() # empty data frame ... lazy approach\n",
    "\n",
    "for (item in rand_seeds) {\n",
    "    \n",
    "    # Extract Random Seed\n",
    "    n_seed <- item\n",
    "    set.seed(n_seed)\n",
    "    \n",
    "    # Start Timer\n",
    "    t_start <- proc.time()\n",
    "    \n",
    "    # Bayes Opt\n",
    "    # Same as https://a-ghorbani.github.io/2016/11/24/data-science-with-h2o#bayesian-optimization\n",
    "    OPT_Res <- BayesianOptimization(\n",
    "                  h2o_bayes,\n",
    "                  bounds = list(\n",
    "                    max_depth   = c(2L, 8L), \n",
    "                    learn_rate  = c(1e-4, 0.2),\n",
    "                    sample_rate = c(0.4, 1), \n",
    "                    col_sample_rate = c(0.4, 1), \n",
    "                    balance_classes = c(0L, 1L)),\n",
    "                  init_points = 10,  n_iter = 10,   \n",
    "                  acq = \"ucb\", kappa = 2.576, eps = 0.0,\n",
    "                  verbose = FALSE)\n",
    "    \n",
    "    # End Timer\n",
    "    t_end <- timetaken(t_start)\n",
    "    \n",
    "    # Evaluation Results\n",
    "    d_eval_temp <- data.frame(        \n",
    "                              # Model / Optimization Info\n",
    "                              algo = \"Bayes_Opt\",\n",
    "                              seed = n_seed,\n",
    "                              max_depth = OPT_Res$Best_Par[1],\n",
    "                              learn_rate = round(OPT_Res$Best_Par[2], 6),\n",
    "                              sample_rate = round(OPT_Res$Best_Par[3], 6),\n",
    "                              col_sample_rate = round(OPT_Res$Best_Par[4], 6),\n",
    "                              balance_classes = as.logical(OPT_Res$Best_Par[5]),\n",
    "                              \n",
    "                              # Evaluation Metrics\n",
    "                              AUC = round(OPT_Res$Best_Value, 6),\n",
    "                              timetaken = t_end,\n",
    "        \n",
    "                              stringsAsFactors = FALSE      \n",
    "                             )\n",
    "    \n",
    "    # Stack\n",
    "    d_eval <- rbind(d_eval, d_eval_temp)\n",
    "    \n",
    "}\n"
   ]
  },
  {
   "cell_type": "code",
   "execution_count": 12,
   "metadata": {
    "collapsed": false
   },
   "outputs": [
    {
     "data": {
      "text/html": [
       "<table>\n",
       "<thead><tr><th scope=col>algo</th><th scope=col>seed</th><th scope=col>max_depth</th><th scope=col>learn_rate</th><th scope=col>sample_rate</th><th scope=col>col_sample_rate</th><th scope=col>balance_classes</th><th scope=col>AUC</th><th scope=col>timetaken</th></tr></thead>\n",
       "<tbody>\n",
       "\t<tr><td>Bayes_Opt</td><td>11371    </td><td>4        </td><td>0.114541 </td><td>0.528820 </td><td>0.557812 </td><td>FALSE    </td><td>0.903815 </td><td>00:02:59 </td></tr>\n",
       "\t<tr><td>Bayes_Opt</td><td>62229    </td><td>3        </td><td>0.176366 </td><td>0.999118 </td><td>0.612994 </td><td>FALSE    </td><td>0.898618 </td><td>00:02:51 </td></tr>\n",
       "\t<tr><td>Bayes_Opt</td><td>60926    </td><td>6        </td><td>0.000100 </td><td>1.000000 </td><td>0.486682 </td><td>FALSE    </td><td>0.898942 </td><td>00:04:01 </td></tr>\n",
       "\t<tr><td>Bayes_Opt</td><td>62336    </td><td>2        </td><td>0.133640 </td><td>0.884505 </td><td>0.930309 </td><td>FALSE    </td><td>0.898388 </td><td>00:03:49 </td></tr>\n",
       "\t<tr><td>Bayes_Opt</td><td>86088    </td><td>3        </td><td>0.085472 </td><td>0.881468 </td><td>0.784020 </td><td>FALSE    </td><td>0.899331 </td><td>00:03:44 </td></tr>\n",
       "\t<tr><td>Bayes_Opt</td><td>64028    </td><td>8        </td><td>0.071040 </td><td>0.893326 </td><td>0.526155 </td><td>FALSE    </td><td>0.901458 </td><td>00:03:55 </td></tr>\n",
       "\t<tr><td>Bayes_Opt</td><td>  950    </td><td>6        </td><td>0.176404 </td><td>0.960376 </td><td>0.614625 </td><td>FALSE    </td><td>0.898064 </td><td>00:03:15 </td></tr>\n",
       "\t<tr><td>Bayes_Opt</td><td>23254    </td><td>8        </td><td>0.200000 </td><td>1.000000 </td><td>0.430649 </td><td>FALSE    </td><td>0.901788 </td><td>00:04:09 </td></tr>\n",
       "\t<tr><td>Bayes_Opt</td><td>66603    </td><td>4        </td><td>0.020041 </td><td>0.980212 </td><td>0.963159 </td><td>FALSE    </td><td>0.897527 </td><td>00:02:13 </td></tr>\n",
       "\t<tr><td>Bayes_Opt</td><td>51420    </td><td>7        </td><td>0.184445 </td><td>0.497194 </td><td>0.513160 </td><td> TRUE    </td><td>0.900916 </td><td>00:02:35 </td></tr>\n",
       "</tbody>\n",
       "</table>\n"
      ],
      "text/latex": [
       "\\begin{tabular}{r|lllllllll}\n",
       " algo & seed & max\\_depth & learn\\_rate & sample\\_rate & col\\_sample\\_rate & balance\\_classes & AUC & timetaken\\\\\n",
       "\\hline\n",
       "\t Bayes\\_Opt & 11371       & 4           & 0.114541    & 0.528820    & 0.557812    & FALSE       & 0.903815    & 00:02:59   \\\\\n",
       "\t Bayes\\_Opt & 62229       & 3           & 0.176366    & 0.999118    & 0.612994    & FALSE       & 0.898618    & 00:02:51   \\\\\n",
       "\t Bayes\\_Opt & 60926       & 6           & 0.000100    & 1.000000    & 0.486682    & FALSE       & 0.898942    & 00:04:01   \\\\\n",
       "\t Bayes\\_Opt & 62336       & 2           & 0.133640    & 0.884505    & 0.930309    & FALSE       & 0.898388    & 00:03:49   \\\\\n",
       "\t Bayes\\_Opt & 86088       & 3           & 0.085472    & 0.881468    & 0.784020    & FALSE       & 0.899331    & 00:03:44   \\\\\n",
       "\t Bayes\\_Opt & 64028       & 8           & 0.071040    & 0.893326    & 0.526155    & FALSE       & 0.901458    & 00:03:55   \\\\\n",
       "\t Bayes\\_Opt &   950       & 6           & 0.176404    & 0.960376    & 0.614625    & FALSE       & 0.898064    & 00:03:15   \\\\\n",
       "\t Bayes\\_Opt & 23254       & 8           & 0.200000    & 1.000000    & 0.430649    & FALSE       & 0.901788    & 00:04:09   \\\\\n",
       "\t Bayes\\_Opt & 66603       & 4           & 0.020041    & 0.980212    & 0.963159    & FALSE       & 0.897527    & 00:02:13   \\\\\n",
       "\t Bayes\\_Opt & 51420       & 7           & 0.184445    & 0.497194    & 0.513160    &  TRUE       & 0.900916    & 00:02:35   \\\\\n",
       "\\end{tabular}\n"
      ],
      "text/markdown": [
       "\n",
       "algo | seed | max_depth | learn_rate | sample_rate | col_sample_rate | balance_classes | AUC | timetaken | \n",
       "|---|---|---|---|---|---|---|---|---|---|\n",
       "| Bayes_Opt | 11371     | 4         | 0.114541  | 0.528820  | 0.557812  | FALSE     | 0.903815  | 00:02:59  | \n",
       "| Bayes_Opt | 62229     | 3         | 0.176366  | 0.999118  | 0.612994  | FALSE     | 0.898618  | 00:02:51  | \n",
       "| Bayes_Opt | 60926     | 6         | 0.000100  | 1.000000  | 0.486682  | FALSE     | 0.898942  | 00:04:01  | \n",
       "| Bayes_Opt | 62336     | 2         | 0.133640  | 0.884505  | 0.930309  | FALSE     | 0.898388  | 00:03:49  | \n",
       "| Bayes_Opt | 86088     | 3         | 0.085472  | 0.881468  | 0.784020  | FALSE     | 0.899331  | 00:03:44  | \n",
       "| Bayes_Opt | 64028     | 8         | 0.071040  | 0.893326  | 0.526155  | FALSE     | 0.901458  | 00:03:55  | \n",
       "| Bayes_Opt |   950     | 6         | 0.176404  | 0.960376  | 0.614625  | FALSE     | 0.898064  | 00:03:15  | \n",
       "| Bayes_Opt | 23254     | 8         | 0.200000  | 1.000000  | 0.430649  | FALSE     | 0.901788  | 00:04:09  | \n",
       "| Bayes_Opt | 66603     | 4         | 0.020041  | 0.980212  | 0.963159  | FALSE     | 0.897527  | 00:02:13  | \n",
       "| Bayes_Opt | 51420     | 7         | 0.184445  | 0.497194  | 0.513160  |  TRUE     | 0.900916  | 00:02:35  | \n",
       "\n",
       "\n"
      ],
      "text/plain": [
       "   algo      seed  max_depth learn_rate sample_rate col_sample_rate\n",
       "1  Bayes_Opt 11371 4         0.114541   0.528820    0.557812       \n",
       "2  Bayes_Opt 62229 3         0.176366   0.999118    0.612994       \n",
       "3  Bayes_Opt 60926 6         0.000100   1.000000    0.486682       \n",
       "4  Bayes_Opt 62336 2         0.133640   0.884505    0.930309       \n",
       "5  Bayes_Opt 86088 3         0.085472   0.881468    0.784020       \n",
       "6  Bayes_Opt 64028 8         0.071040   0.893326    0.526155       \n",
       "7  Bayes_Opt   950 6         0.176404   0.960376    0.614625       \n",
       "8  Bayes_Opt 23254 8         0.200000   1.000000    0.430649       \n",
       "9  Bayes_Opt 66603 4         0.020041   0.980212    0.963159       \n",
       "10 Bayes_Opt 51420 7         0.184445   0.497194    0.513160       \n",
       "   balance_classes AUC      timetaken\n",
       "1  FALSE           0.903815 00:02:59 \n",
       "2  FALSE           0.898618 00:02:51 \n",
       "3  FALSE           0.898942 00:04:01 \n",
       "4  FALSE           0.898388 00:03:49 \n",
       "5  FALSE           0.899331 00:03:44 \n",
       "6  FALSE           0.901458 00:03:55 \n",
       "7  FALSE           0.898064 00:03:15 \n",
       "8  FALSE           0.901788 00:04:09 \n",
       "9  FALSE           0.897527 00:02:13 \n",
       "10  TRUE           0.900916 00:02:35 "
      ]
     },
     "metadata": {},
     "output_type": "display_data"
    }
   ],
   "source": [
    "# Evaluation Results Table (Bayes Opt)\n",
    "rownames(d_eval) <- NULL\n",
    "d_eval"
   ]
  },
  {
   "cell_type": "markdown",
   "metadata": {},
   "source": [
    "## H2O Random Grid Search"
   ]
  },
  {
   "cell_type": "code",
   "execution_count": 13,
   "metadata": {
    "collapsed": false
   },
   "outputs": [],
   "source": [
    "# Same parameters search range as above\n",
    "params_gbm <- list(max_depth = seq(2, 8, 1),\n",
    "                   learn_rate  = seq(1e-4, 0.2, 0.01),\n",
    "                   sample_rate = seq(0.4, 1, 0.05),\n",
    "                   col_sample_rate = seq(0.4, 1, 0.05),\n",
    "                   balance_classes = c(TRUE, FALSE))\n",
    "\n",
    "\n",
    "# Loop for Random Grid Search Benchmark\n",
    "options(warn = -1)\n",
    "\n",
    "\n",
    "for (item in rand_seeds) {\n",
    "    \n",
    "    # Extract Random Seed\n",
    "    n_seed <- item\n",
    "    set.seed(n_seed)\n",
    "    \n",
    "    # Search Criteria\n",
    "    search_criteria <- list(strategy = \"RandomDiscrete\",\n",
    "                            max_models = 10,\n",
    "                            seed = n_seed)\n",
    "    \n",
    "    # Start Timer\n",
    "    t_start <- proc.time()\n",
    "    \n",
    "    # H2O Random Grid Search\n",
    "    grid_gbm <- h2o.grid(\n",
    "                     \n",
    "                     # Grid search parameters\n",
    "                     algorithm        = \"gbm\",\n",
    "                     grid_id          = paste0(\"grid_gbm_seed_\", n_seed),\n",
    "                     hyper_params     = params_gbm,\n",
    "                     search_criteria  = search_criteria,\n",
    "                     \n",
    "                     # Core model parameters\n",
    "                     x                = features,\n",
    "                     y                = target,\n",
    "                     training_frame   = h_train,\n",
    "                     validation_frame = h_valid,\n",
    "                     ntrees           = 900,\n",
    "                     seed             = n_seed,\n",
    "                     \n",
    "                     # Early stopping parameters\n",
    "                     # Same as Bayes Opt Above\n",
    "                     score_tree_interval = 5,\n",
    "                     stopping_metric     = \"logloss\",\n",
    "                     stopping_tolerance  = 0.05,\n",
    "                     stopping_rounds     = 2\n",
    "                     \n",
    "                     )\n",
    "    \n",
    "    # End Timer\n",
    "    t_end <- timetaken(t_start)\n",
    "    \n",
    "    # Sort Grid\n",
    "    grid_gbm_sorted <- h2o.getGrid(paste0(\"grid_gbm_seed_\", n_seed), sort_by = \"AUC\", decreasing = TRUE)\n",
    "    \n",
    "    # Evaluation Results\n",
    "    d_eval_temp <- data.frame(        \n",
    "                              # Model / Optimization Info\n",
    "                              algo = \"H2O_Random_Grid\",\n",
    "                              seed = n_seed,\n",
    "                              max_depth = grid_gbm_sorted@summary_table$max_depth[1],\n",
    "                              learn_rate = grid_gbm_sorted@summary_table$learn_rate[1],\n",
    "                              sample_rate = grid_gbm_sorted@summary_table$sample_rate[1],\n",
    "                              col_sample_rate = grid_gbm_sorted@summary_table$col_sample_rate[1],\n",
    "                              balance_classes = grid_gbm_sorted@summary_table$balance_classes[1],\n",
    "                              \n",
    "                              # Evaluation Metrics\n",
    "                              AUC = grid_gbm_sorted@summary_table$auc[1],\n",
    "                              timetaken = t_end,\n",
    "        \n",
    "                              stringsAsFactors = FALSE      \n",
    "                             )\n",
    "    \n",
    "        # Stack\n",
    "    d_eval <- rbind(d_eval, d_eval_temp)\n",
    "    \n",
    "}"
   ]
  },
  {
   "cell_type": "code",
   "execution_count": 14,
   "metadata": {
    "collapsed": false
   },
   "outputs": [
    {
     "data": {
      "text/html": [
       "<table>\n",
       "<thead><tr><th scope=col>algo</th><th scope=col>seed</th><th scope=col>max_depth</th><th scope=col>learn_rate</th><th scope=col>sample_rate</th><th scope=col>col_sample_rate</th><th scope=col>balance_classes</th><th scope=col>AUC</th><th scope=col>timetaken</th></tr></thead>\n",
       "<tbody>\n",
       "\t<tr><td>Bayes_Opt         </td><td>11371             </td><td>4                 </td><td>0.114541          </td><td>0.52882           </td><td>0.557812          </td><td>FALSE             </td><td>0.903815          </td><td>00:02:59          </td></tr>\n",
       "\t<tr><td>Bayes_Opt         </td><td>62229             </td><td>3                 </td><td>0.176366          </td><td>0.999118          </td><td>0.612994          </td><td>FALSE             </td><td>0.898618          </td><td>00:02:51          </td></tr>\n",
       "\t<tr><td>Bayes_Opt         </td><td>60926             </td><td>6                 </td><td>1e-04             </td><td>1                 </td><td>0.486682          </td><td>FALSE             </td><td>0.898942          </td><td>00:04:01          </td></tr>\n",
       "\t<tr><td>Bayes_Opt         </td><td>62336             </td><td>2                 </td><td>0.13364           </td><td>0.884505          </td><td>0.930309          </td><td>FALSE             </td><td>0.898388          </td><td>00:03:49          </td></tr>\n",
       "\t<tr><td>Bayes_Opt         </td><td>86088             </td><td>3                 </td><td>0.085472          </td><td>0.881468          </td><td>0.78402           </td><td>FALSE             </td><td>0.899331          </td><td>00:03:44          </td></tr>\n",
       "\t<tr><td>Bayes_Opt         </td><td>64028             </td><td>8                 </td><td>0.07104           </td><td>0.893326          </td><td>0.526155          </td><td>FALSE             </td><td>0.901458          </td><td>00:03:55          </td></tr>\n",
       "\t<tr><td>Bayes_Opt         </td><td>  950             </td><td>6                 </td><td>0.176404          </td><td>0.960376          </td><td>0.614625          </td><td>FALSE             </td><td>0.898064          </td><td>00:03:15          </td></tr>\n",
       "\t<tr><td>Bayes_Opt         </td><td>23254             </td><td>8                 </td><td>0.2               </td><td>1                 </td><td>0.430649          </td><td>FALSE             </td><td>0.901788          </td><td>00:04:09          </td></tr>\n",
       "\t<tr><td>Bayes_Opt         </td><td>66603             </td><td>4                 </td><td>0.020041          </td><td>0.980212          </td><td>0.963159          </td><td>FALSE             </td><td>0.897527          </td><td>00:02:13          </td></tr>\n",
       "\t<tr><td>Bayes_Opt         </td><td>51420             </td><td>7                 </td><td>0.184445          </td><td>0.497194          </td><td>0.51316           </td><td>TRUE              </td><td>0.900916          </td><td>00:02:35          </td></tr>\n",
       "\t<tr><td>H2O_Random_Grid   </td><td>11371             </td><td>8                 </td><td>0.1501            </td><td>0.85              </td><td>0.5               </td><td>false             </td><td>0.9008568364232088</td><td>3.681sec          </td></tr>\n",
       "\t<tr><td>H2O_Random_Grid   </td><td>62229             </td><td>6                 </td><td>0.1201            </td><td>0.55              </td><td>0.45              </td><td>false             </td><td>0.9040567138496353</td><td>3.590sec          </td></tr>\n",
       "\t<tr><td>H2O_Random_Grid   </td><td>60926             </td><td>4                 </td><td>0.1401            </td><td>0.7               </td><td>0.5               </td><td>false             </td><td>0.8984230438318385</td><td>2.521sec          </td></tr>\n",
       "\t<tr><td>H2O_Random_Grid   </td><td>62336             </td><td>8                 </td><td>0.1201            </td><td>0.65              </td><td>0.7               </td><td>false             </td><td>0.8996428866076585</td><td>3.599sec          </td></tr>\n",
       "\t<tr><td>H2O_Random_Grid   </td><td>86088             </td><td>3                 </td><td>0.1601            </td><td>0.85              </td><td>0.7               </td><td>false             </td><td>0.8987294777658609</td><td>3.550sec          </td></tr>\n",
       "\t<tr><td>H2O_Random_Grid   </td><td>64028             </td><td>8                 </td><td>0.1001            </td><td>0.65              </td><td>0.6               </td><td>false             </td><td>0.8978514266856813</td><td>3.574sec          </td></tr>\n",
       "\t<tr><td>H2O_Random_Grid   </td><td>  950             </td><td>6                 </td><td>0.1601            </td><td>0.5               </td><td>0.55              </td><td>true              </td><td>0.8956828173064457</td><td>3.548sec          </td></tr>\n",
       "\t<tr><td>H2O_Random_Grid   </td><td>23254             </td><td>8                 </td><td>0.0701            </td><td>0.85              </td><td>0.55              </td><td>false             </td><td>0.8938088559406934</td><td>3.552sec          </td></tr>\n",
       "\t<tr><td>H2O_Random_Grid   </td><td>66603             </td><td>7                 </td><td>0.1301            </td><td>0.85              </td><td>0.6               </td><td>false             </td><td>0.8927775878935025</td><td>3.587sec          </td></tr>\n",
       "\t<tr><td>H2O_Random_Grid   </td><td>51420             </td><td>7                 </td><td>0.0901            </td><td>0.6               </td><td>0.45              </td><td>true              </td><td>0.8972149869765578</td><td>3.562sec          </td></tr>\n",
       "</tbody>\n",
       "</table>\n"
      ],
      "text/latex": [
       "\\begin{tabular}{r|lllllllll}\n",
       " algo & seed & max\\_depth & learn\\_rate & sample\\_rate & col\\_sample\\_rate & balance\\_classes & AUC & timetaken\\\\\n",
       "\\hline\n",
       "\t Bayes\\_Opt        & 11371              & 4                  & 0.114541           & 0.52882            & 0.557812           & FALSE              & 0.903815           & 00:02:59          \\\\\n",
       "\t Bayes\\_Opt        & 62229              & 3                  & 0.176366           & 0.999118           & 0.612994           & FALSE              & 0.898618           & 00:02:51          \\\\\n",
       "\t Bayes\\_Opt        & 60926              & 6                  & 1e-04              & 1                  & 0.486682           & FALSE              & 0.898942           & 00:04:01          \\\\\n",
       "\t Bayes\\_Opt        & 62336              & 2                  & 0.13364            & 0.884505           & 0.930309           & FALSE              & 0.898388           & 00:03:49          \\\\\n",
       "\t Bayes\\_Opt        & 86088              & 3                  & 0.085472           & 0.881468           & 0.78402            & FALSE              & 0.899331           & 00:03:44          \\\\\n",
       "\t Bayes\\_Opt        & 64028              & 8                  & 0.07104            & 0.893326           & 0.526155           & FALSE              & 0.901458           & 00:03:55          \\\\\n",
       "\t Bayes\\_Opt        &   950              & 6                  & 0.176404           & 0.960376           & 0.614625           & FALSE              & 0.898064           & 00:03:15          \\\\\n",
       "\t Bayes\\_Opt        & 23254              & 8                  & 0.2                & 1                  & 0.430649           & FALSE              & 0.901788           & 00:04:09          \\\\\n",
       "\t Bayes\\_Opt        & 66603              & 4                  & 0.020041           & 0.980212           & 0.963159           & FALSE              & 0.897527           & 00:02:13          \\\\\n",
       "\t Bayes\\_Opt        & 51420              & 7                  & 0.184445           & 0.497194           & 0.51316            & TRUE               & 0.900916           & 00:02:35          \\\\\n",
       "\t H2O\\_Random\\_Grid & 11371               & 8                   & 0.1501              & 0.85                & 0.5                 & false               & 0.9008568364232088  & 3.681sec           \\\\\n",
       "\t H2O\\_Random\\_Grid & 62229               & 6                   & 0.1201              & 0.55                & 0.45                & false               & 0.9040567138496353  & 3.590sec           \\\\\n",
       "\t H2O\\_Random\\_Grid & 60926               & 4                   & 0.1401              & 0.7                 & 0.5                 & false               & 0.8984230438318385  & 2.521sec           \\\\\n",
       "\t H2O\\_Random\\_Grid & 62336               & 8                   & 0.1201              & 0.65                & 0.7                 & false               & 0.8996428866076585  & 3.599sec           \\\\\n",
       "\t H2O\\_Random\\_Grid & 86088               & 3                   & 0.1601              & 0.85                & 0.7                 & false               & 0.8987294777658609  & 3.550sec           \\\\\n",
       "\t H2O\\_Random\\_Grid & 64028               & 8                   & 0.1001              & 0.65                & 0.6                 & false               & 0.8978514266856813  & 3.574sec           \\\\\n",
       "\t H2O\\_Random\\_Grid &   950               & 6                   & 0.1601              & 0.5                 & 0.55                & true                & 0.8956828173064457  & 3.548sec           \\\\\n",
       "\t H2O\\_Random\\_Grid & 23254               & 8                   & 0.0701              & 0.85                & 0.55                & false               & 0.8938088559406934  & 3.552sec           \\\\\n",
       "\t H2O\\_Random\\_Grid & 66603               & 7                   & 0.1301              & 0.85                & 0.6                 & false               & 0.8927775878935025  & 3.587sec           \\\\\n",
       "\t H2O\\_Random\\_Grid & 51420               & 7                   & 0.0901              & 0.6                 & 0.45                & true                & 0.8972149869765578  & 3.562sec           \\\\\n",
       "\\end{tabular}\n"
      ],
      "text/markdown": [
       "\n",
       "algo | seed | max_depth | learn_rate | sample_rate | col_sample_rate | balance_classes | AUC | timetaken | \n",
       "|---|---|---|---|---|---|---|---|---|---|---|---|---|---|---|---|---|---|---|---|\n",
       "| Bayes_Opt          | 11371              | 4                  | 0.114541           | 0.52882            | 0.557812           | FALSE              | 0.903815           | 00:02:59           | \n",
       "| Bayes_Opt          | 62229              | 3                  | 0.176366           | 0.999118           | 0.612994           | FALSE              | 0.898618           | 00:02:51           | \n",
       "| Bayes_Opt          | 60926              | 6                  | 1e-04              | 1                  | 0.486682           | FALSE              | 0.898942           | 00:04:01           | \n",
       "| Bayes_Opt          | 62336              | 2                  | 0.13364            | 0.884505           | 0.930309           | FALSE              | 0.898388           | 00:03:49           | \n",
       "| Bayes_Opt          | 86088              | 3                  | 0.085472           | 0.881468           | 0.78402            | FALSE              | 0.899331           | 00:03:44           | \n",
       "| Bayes_Opt          | 64028              | 8                  | 0.07104            | 0.893326           | 0.526155           | FALSE              | 0.901458           | 00:03:55           | \n",
       "| Bayes_Opt          |   950              | 6                  | 0.176404           | 0.960376           | 0.614625           | FALSE              | 0.898064           | 00:03:15           | \n",
       "| Bayes_Opt          | 23254              | 8                  | 0.2                | 1                  | 0.430649           | FALSE              | 0.901788           | 00:04:09           | \n",
       "| Bayes_Opt          | 66603              | 4                  | 0.020041           | 0.980212           | 0.963159           | FALSE              | 0.897527           | 00:02:13           | \n",
       "| Bayes_Opt          | 51420              | 7                  | 0.184445           | 0.497194           | 0.51316            | TRUE               | 0.900916           | 00:02:35           | \n",
       "| H2O_Random_Grid    | 11371              | 8                  | 0.1501             | 0.85               | 0.5                | false              | 0.9008568364232088 | 3.681sec           | \n",
       "| H2O_Random_Grid    | 62229              | 6                  | 0.1201             | 0.55               | 0.45               | false              | 0.9040567138496353 | 3.590sec           | \n",
       "| H2O_Random_Grid    | 60926              | 4                  | 0.1401             | 0.7                | 0.5                | false              | 0.8984230438318385 | 2.521sec           | \n",
       "| H2O_Random_Grid    | 62336              | 8                  | 0.1201             | 0.65               | 0.7                | false              | 0.8996428866076585 | 3.599sec           | \n",
       "| H2O_Random_Grid    | 86088              | 3                  | 0.1601             | 0.85               | 0.7                | false              | 0.8987294777658609 | 3.550sec           | \n",
       "| H2O_Random_Grid    | 64028              | 8                  | 0.1001             | 0.65               | 0.6                | false              | 0.8978514266856813 | 3.574sec           | \n",
       "| H2O_Random_Grid    |   950              | 6                  | 0.1601             | 0.5                | 0.55               | true               | 0.8956828173064457 | 3.548sec           | \n",
       "| H2O_Random_Grid    | 23254              | 8                  | 0.0701             | 0.85               | 0.55               | false              | 0.8938088559406934 | 3.552sec           | \n",
       "| H2O_Random_Grid    | 66603              | 7                  | 0.1301             | 0.85               | 0.6                | false              | 0.8927775878935025 | 3.587sec           | \n",
       "| H2O_Random_Grid    | 51420              | 7                  | 0.0901             | 0.6                | 0.45               | true               | 0.8972149869765578 | 3.562sec           | \n",
       "\n",
       "\n"
      ],
      "text/plain": [
       "   algo            seed  max_depth learn_rate sample_rate col_sample_rate\n",
       "1  Bayes_Opt       11371 4         0.114541   0.52882     0.557812       \n",
       "2  Bayes_Opt       62229 3         0.176366   0.999118    0.612994       \n",
       "3  Bayes_Opt       60926 6         1e-04      1           0.486682       \n",
       "4  Bayes_Opt       62336 2         0.13364    0.884505    0.930309       \n",
       "5  Bayes_Opt       86088 3         0.085472   0.881468    0.78402        \n",
       "6  Bayes_Opt       64028 8         0.07104    0.893326    0.526155       \n",
       "7  Bayes_Opt         950 6         0.176404   0.960376    0.614625       \n",
       "8  Bayes_Opt       23254 8         0.2        1           0.430649       \n",
       "9  Bayes_Opt       66603 4         0.020041   0.980212    0.963159       \n",
       "10 Bayes_Opt       51420 7         0.184445   0.497194    0.51316        \n",
       "11 H2O_Random_Grid 11371 8         0.1501     0.85        0.5            \n",
       "12 H2O_Random_Grid 62229 6         0.1201     0.55        0.45           \n",
       "13 H2O_Random_Grid 60926 4         0.1401     0.7         0.5            \n",
       "14 H2O_Random_Grid 62336 8         0.1201     0.65        0.7            \n",
       "15 H2O_Random_Grid 86088 3         0.1601     0.85        0.7            \n",
       "16 H2O_Random_Grid 64028 8         0.1001     0.65        0.6            \n",
       "17 H2O_Random_Grid   950 6         0.1601     0.5         0.55           \n",
       "18 H2O_Random_Grid 23254 8         0.0701     0.85        0.55           \n",
       "19 H2O_Random_Grid 66603 7         0.1301     0.85        0.6            \n",
       "20 H2O_Random_Grid 51420 7         0.0901     0.6         0.45           \n",
       "   balance_classes AUC                timetaken\n",
       "1  FALSE           0.903815           00:02:59 \n",
       "2  FALSE           0.898618           00:02:51 \n",
       "3  FALSE           0.898942           00:04:01 \n",
       "4  FALSE           0.898388           00:03:49 \n",
       "5  FALSE           0.899331           00:03:44 \n",
       "6  FALSE           0.901458           00:03:55 \n",
       "7  FALSE           0.898064           00:03:15 \n",
       "8  FALSE           0.901788           00:04:09 \n",
       "9  FALSE           0.897527           00:02:13 \n",
       "10 TRUE            0.900916           00:02:35 \n",
       "11 false           0.9008568364232088 3.681sec \n",
       "12 false           0.9040567138496353 3.590sec \n",
       "13 false           0.8984230438318385 2.521sec \n",
       "14 false           0.8996428866076585 3.599sec \n",
       "15 false           0.8987294777658609 3.550sec \n",
       "16 false           0.8978514266856813 3.574sec \n",
       "17 true            0.8956828173064457 3.548sec \n",
       "18 false           0.8938088559406934 3.552sec \n",
       "19 false           0.8927775878935025 3.587sec \n",
       "20 true            0.8972149869765578 3.562sec "
      ]
     },
     "metadata": {},
     "output_type": "display_data"
    }
   ],
   "source": [
    "rownames(d_eval) <- NULL\n",
    "d_eval"
   ]
  }
 ],
 "metadata": {
  "kernelspec": {
   "display_name": "R",
   "language": "R",
   "name": "ir"
  },
  "language_info": {
   "codemirror_mode": "r",
   "file_extension": ".r",
   "mimetype": "text/x-r-source",
   "name": "R",
   "pygments_lexer": "r",
   "version": "3.3.2"
  }
 },
 "nbformat": 4,
 "nbformat_minor": 1
}
